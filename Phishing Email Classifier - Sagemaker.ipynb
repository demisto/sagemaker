{
 "cells": [
  {
   "cell_type": "code",
   "execution_count": 2,
   "metadata": {},
   "outputs": [],
   "source": [
    "import sagemaker\n",
    "from sagemaker import get_execution_role\n",
    "import json\n",
    "import boto3\n",
    "\n",
    "ENDPOINT_NAME = \"test4\"\n",
    "\n",
    "sess = sagemaker.Session()\n",
    "runtime = boto3.Session().client('runtime.sagemaker')\n",
    "role = get_execution_role()"
   ]
  },
  {
   "cell_type": "markdown",
   "metadata": {},
   "source": [
    "# Using via Endpoint API"
   ]
  },
  {
   "cell_type": "markdown",
   "metadata": {},
   "source": [
    "In this part we will see how to simply query the API with JSON format"
   ]
  },
  {
   "cell_type": "code",
   "execution_count": 3,
   "metadata": {},
   "outputs": [
    {
     "name": "stdout",
     "output_type": "stream",
     "text": [
      "Request:\n",
      "['Dear Info, Please confirm account password to enable a better service communication, and avoid mail delivery malfunction.', 'Major Update: General Availability Based on your feedback, we\\xe2\\x80\\x99re making some updates to the plan for users to receive helpful product training and tips via email. Thank you for taking time to share your thoughts. We want to take time to review your suggestions, so we are pausing the release of this feature. How does this affect me? There will be no impact at this time. We will provide information on an updated plan via a new Message Center post. What do I need to do to prepare for this change? There is no need to take any...']\n",
      "Response:\n",
      "[{u'probability': u'1.00', u'label': [u'__label__malicious']}, {u'probability': u'1.00', u'label': [u'__label__other']}]\n"
     ]
    }
   ],
   "source": [
    "potential_phishing1 = \"Dear Info, Please confirm account password to enable a better service communication, and avoid mail delivery malfunction.\"\n",
    "potential_phishing2 = \"Major Update: General Availability Based on your feedback, we’re making some updates to the plan for users to receive helpful product training and tips via email. Thank you for taking time to share your thoughts. We want to take time to review your suggestions, so we are pausing the release of this feature. How does this affect me? There will be no impact at this time. We will provide information on an updated plan via a new Message Center post. What do I need to do to prepare for this change? There is no need to take any...\"\n",
    "payload = [potential_phishing1, potential_phishing2]\n",
    "print \"Request:\\n\", payload\n",
    "response = runtime.invoke_endpoint(EndpointName=ENDPOINT_NAME,\n",
    "                                   ContentType='application/json',\n",
    "                                   Body=json.dumps(payload))\n",
    "result = json.loads(response['Body'].read().decode())\n",
    "print \"Response:\\n\", result"
   ]
  },
  {
   "cell_type": "markdown",
   "metadata": {},
   "source": [
    "# Using with Batch Transform"
   ]
  },
  {
   "cell_type": "markdown",
   "metadata": {},
   "source": [
    "To use demisto phishing classifier via Batch Transform, you will need to create a JSON file contains the email contents, and preform the transform job. Here is a simple example for that:"
   ]
  },
  {
   "cell_type": "code",
   "execution_count": null,
   "metadata": {},
   "outputs": [
    {
     "name": "stderr",
     "output_type": "stream",
     "text": [
      "INFO:sagemaker:Creating transform job with name: Batch-Transform-2018-11-08-10-24-45-835\n"
     ]
    },
    {
     "name": "stdout",
     "output_type": "stream",
     "text": [
      "......................"
     ]
    }
   ],
   "source": [
    "import boto3\n",
    "import sagemaker\n",
    "import json, os\n",
    "\n",
    "BUCKET_NAME = 'demisto-sagemaker-phishing-ml'\n",
    "JSON_FILE_INPUT_KEY = 'input/sample.json'\n",
    "MODEL_NAME = '25e48e3b-65d9-438b-82b8-ae2864a0892b'\n",
    "OUTPUT_DIRECTORY = 'output'\n",
    "\n",
    "input_location = 's3://{}/{}'.format(BUCKET_NAME, JSON_FILE_INPUT_KEY)\n",
    "output_location = 's3://{}/{}'.format(BUCKET_NAME, OUTPUT_DIRECTORY)\n",
    "\n",
    "# Initialize s3 client\n",
    "s3_client = boto3.client('s3')\n",
    "\n",
    "# Initialize the transformer object\n",
    "transformer =sagemaker.transformer.Transformer(\n",
    "    base_transform_job_name='Batch-Transform',\n",
    "    model_name=MODEL_NAME,\n",
    "    instance_count=1,\n",
    "    instance_type='ml.c4.xlarge',\n",
    "    output_path=output_location\n",
    "    )\n",
    "\n",
    "# To start a transform job\n",
    "transformer.transform(input_location, content_type='application/json', split_type='Line')\n",
    "# Then wait until transform job is completed\n",
    "transformer.wait()\n",
    "\n",
    "# To fetch validation result \n",
    "input_file_basename = os.path.basename(JSON_FILE_INPUT_KEY)\n",
    "s3_client.download_file(BUCKET_NAME, '{}/{}.out'.format(OUTPUT_DIRECTORY, input_file_basename), 'valid-result')\n",
    "with open('valid-result') as f:\n",
    "    results = f.readlines()   \n",
    "print(\"Sample transform result: {}\".format(results[0]))\n"
   ]
  },
  {
   "cell_type": "markdown",
   "metadata": {},
   "source": [
    "# Preform prediction to an EML file"
   ]
  },
  {
   "cell_type": "markdown",
   "metadata": {},
   "source": [
    "In this part we will see an example of how to handle multiple email files (EML foramt).\n",
    "We will read the EML files from s3, extract email subjcet and body with mail-parser package, and query the API."
   ]
  },
  {
   "cell_type": "code",
   "execution_count": null,
   "metadata": {},
   "outputs": [],
   "source": [
    "try:\n",
    "    import mailparser\n",
    "except Exception:\n",
    "    !pip install mail-parser"
   ]
  },
  {
   "cell_type": "code",
   "execution_count": null,
   "metadata": {},
   "outputs": [],
   "source": [
    "import boto3\n",
    "\n",
    "BUCKET_NAME = 'demisto-sagemaker-phishing-ml'\n",
    "EMLS_FOLDER_KEY = 'emls'\n",
    "\n",
    "# Get all eml keys from s3\n",
    "emls_keys = []\n",
    "s3_client = boto3.client('s3')\n",
    "paginator = s3_client.get_paginator('list_objects_v2')\n",
    "print \"EML files:\"\n",
    "for page in paginator.paginate(Bucket=BUCKET_NAME, Prefix=EMLS_FOLDER_KEY):\n",
    "    if \"Contents\" in page:\n",
    "        for key in page[\"Contents\"]:\n",
    "            if key['Size'] > 0 and key['Key'].lower().endswith('eml'):\n",
    "                print key[\"Key\"]\n",
    "                emls_keys.append(key[\"Key\"])\n",
    "            "
   ]
  },
  {
   "cell_type": "code",
   "execution_count": null,
   "metadata": {},
   "outputs": [],
   "source": [
    "def read_file_as_string(s3_client, bucket, object_key):\n",
    "    filename = 'file.eml'\n",
    "    s3_client.download_file(BUCKET_NAME, object_key, filename)\n",
    "    with open(filename) as f:\n",
    "        data = f.read()   \n",
    "    return data\n",
    "\n",
    "def get_email_as_text(raw_email_string):\n",
    "    msg = mailparser.parse_from_string(raw_email_string)\n",
    "    return msg.subject + ' ' + msg.body\n",
    "\n",
    "eml_as_strings = map(lambda x: read_file_as_string(s3_client, BUCKET_NAME, x), emls_keys)\n",
    "eml_as_texts = map(get_email_as_text, eml_as_strings)"
   ]
  },
  {
   "cell_type": "code",
   "execution_count": null,
   "metadata": {},
   "outputs": [],
   "source": [
    "def encode_to_json(s):\n",
    "    return json.dumps(s, ensure_ascii=False).encode('utf-8', 'ignore')\n",
    "\n",
    "# Query the endpoint\n",
    "response = runtime.invoke_endpoint(EndpointName=ENDPOINT_NAME,\n",
    "                                   ContentType='application/json',\n",
    "                                   Body=encode_to_json(email_texts))\n",
    "result = json.loads(response['Body'].read().decode())\n",
    "print \"Response:\\n\", result"
   ]
  }
 ],
 "metadata": {
  "kernelspec": {
   "display_name": "conda_python2",
   "language": "python",
   "name": "conda_python2"
  },
  "language_info": {
   "codemirror_mode": {
    "name": "ipython",
    "version": 2
   },
   "file_extension": ".py",
   "mimetype": "text/x-python",
   "name": "python",
   "nbconvert_exporter": "python",
   "pygments_lexer": "ipython2",
   "version": "2.7.15"
  }
 },
 "nbformat": 4,
 "nbformat_minor": 2
}
